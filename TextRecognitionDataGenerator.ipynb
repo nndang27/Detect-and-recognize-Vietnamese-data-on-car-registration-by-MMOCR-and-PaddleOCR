{
  "nbformat": 4,
  "nbformat_minor": 0,
  "metadata": {
    "colab": {
      "provenance": [],
      "gpuType": "T4"
    },
    "kernelspec": {
      "name": "python3",
      "display_name": "Python 3"
    },
    "language_info": {
      "name": "python"
    },
    "gpuClass": "standard"
  },
  "cells": [
    {
      "cell_type": "code",
      "execution_count": null,
      "metadata": {
        "id": "Sa3Lv5EOnQ2y",
        "colab": {
          "base_uri": "https://localhost:8080/",
          "height": 940
        },
        "outputId": "dcb2aacd-5b97-4e82-aac4-f28a0ea35973"
      },
      "outputs": [
        {
          "output_type": "stream",
          "name": "stdout",
          "text": [
            "Looking in indexes: https://pypi.org/simple, https://us-python.pkg.dev/colab-wheels/public/simple/\n",
            "Requirement already satisfied: trdg in /usr/local/lib/python3.9/dist-packages (1.8.0)\n",
            "Requirement already satisfied: requests>=2.20.0 in /usr/local/lib/python3.9/dist-packages (from trdg) (2.27.1)\n",
            "Requirement already satisfied: wikipedia>=1.4.0 in /usr/local/lib/python3.9/dist-packages (from trdg) (1.4.0)\n",
            "Requirement already satisfied: arabic-reshaper==2.1.3 in /usr/local/lib/python3.9/dist-packages (from trdg) (2.1.3)\n",
            "Requirement already satisfied: pillow>=7.0.0 in /usr/local/lib/python3.9/dist-packages (from trdg) (8.4.0)\n",
            "Requirement already satisfied: python-bidi==0.4.2 in /usr/local/lib/python3.9/dist-packages (from trdg) (0.4.2)\n",
            "Requirement already satisfied: tqdm>=4.23.0 in /usr/local/lib/python3.9/dist-packages (from trdg) (4.65.0)\n",
            "Requirement already satisfied: opencv-python>=4.2.0.32 in /usr/local/lib/python3.9/dist-packages (from trdg) (4.7.0.72)\n",
            "Requirement already satisfied: diffimg==0.2.3 in /usr/local/lib/python3.9/dist-packages (from trdg) (0.2.3)\n",
            "Requirement already satisfied: future in /usr/local/lib/python3.9/dist-packages (from arabic-reshaper==2.1.3->trdg) (0.18.3)\n",
            "Requirement already satisfied: setuptools in /usr/local/lib/python3.9/dist-packages (from arabic-reshaper==2.1.3->trdg) (67.7.2)\n",
            "Requirement already satisfied: six in /usr/local/lib/python3.9/dist-packages (from python-bidi==0.4.2->trdg) (1.16.0)\n",
            "Requirement already satisfied: numpy>=1.19.3 in /usr/local/lib/python3.9/dist-packages (from opencv-python>=4.2.0.32->trdg) (1.22.4)\n",
            "Requirement already satisfied: charset-normalizer~=2.0.0 in /usr/local/lib/python3.9/dist-packages (from requests>=2.20.0->trdg) (2.0.12)\n",
            "Requirement already satisfied: idna<4,>=2.5 in /usr/local/lib/python3.9/dist-packages (from requests>=2.20.0->trdg) (3.4)\n",
            "Requirement already satisfied: urllib3<1.27,>=1.21.1 in /usr/local/lib/python3.9/dist-packages (from requests>=2.20.0->trdg) (1.26.15)\n",
            "Requirement already satisfied: certifi>=2017.4.17 in /usr/local/lib/python3.9/dist-packages (from requests>=2.20.0->trdg) (2022.12.7)\n",
            "Requirement already satisfied: beautifulsoup4 in /usr/local/lib/python3.9/dist-packages (from wikipedia>=1.4.0->trdg) (4.11.2)\n",
            "Requirement already satisfied: soupsieve>1.2 in /usr/local/lib/python3.9/dist-packages (from beautifulsoup4->wikipedia>=1.4.0->trdg) (2.4.1)\n",
            "Looking in indexes: https://pypi.org/simple, https://us-python.pkg.dev/colab-wheels/public/simple/\n",
            "Collecting pillow==9.1.0\n",
            "  Downloading Pillow-9.1.0-cp39-cp39-manylinux_2_17_x86_64.manylinux2014_x86_64.whl (4.3 MB)\n",
            "\u001b[2K     \u001b[90m━━━━━━━━━━━━━━━━━━━━━━━━━━━━━━━━━━━━━━━━\u001b[0m \u001b[32m4.3/4.3 MB\u001b[0m \u001b[31m56.8 MB/s\u001b[0m eta \u001b[36m0:00:00\u001b[0m\n",
            "\u001b[?25hRequirement already satisfied: requests>=2.20.0 in /usr/local/lib/python3.9/dist-packages (from -r requirements.txt (line 2)) (2.27.1)\n",
            "Requirement already satisfied: opencv-python>=4.2.0.32 in /usr/local/lib/python3.9/dist-packages (from -r requirements.txt (line 3)) (4.7.0.72)\n",
            "Requirement already satisfied: tqdm>=4.23.0 in /usr/local/lib/python3.9/dist-packages (from -r requirements.txt (line 4)) (4.65.0)\n",
            "Requirement already satisfied: diffimg==0.2.3 in /usr/local/lib/python3.9/dist-packages (from -r requirements.txt (line 5)) (0.2.3)\n",
            "Requirement already satisfied: arabic-reshaper==2.1.3 in /usr/local/lib/python3.9/dist-packages (from -r requirements.txt (line 6)) (2.1.3)\n",
            "Requirement already satisfied: python-bidi==0.4.2 in /usr/local/lib/python3.9/dist-packages (from -r requirements.txt (line 7)) (0.4.2)\n",
            "Requirement already satisfied: wikipedia>=1.4.0 in /usr/local/lib/python3.9/dist-packages (from -r requirements.txt (line 8)) (1.4.0)\n",
            "Requirement already satisfied: future in /usr/local/lib/python3.9/dist-packages (from arabic-reshaper==2.1.3->-r requirements.txt (line 6)) (0.18.3)\n",
            "Requirement already satisfied: setuptools in /usr/local/lib/python3.9/dist-packages (from arabic-reshaper==2.1.3->-r requirements.txt (line 6)) (67.7.2)\n",
            "Requirement already satisfied: six in /usr/local/lib/python3.9/dist-packages (from python-bidi==0.4.2->-r requirements.txt (line 7)) (1.16.0)\n",
            "Requirement already satisfied: urllib3<1.27,>=1.21.1 in /usr/local/lib/python3.9/dist-packages (from requests>=2.20.0->-r requirements.txt (line 2)) (1.26.15)\n",
            "Requirement already satisfied: idna<4,>=2.5 in /usr/local/lib/python3.9/dist-packages (from requests>=2.20.0->-r requirements.txt (line 2)) (3.4)\n",
            "Requirement already satisfied: certifi>=2017.4.17 in /usr/local/lib/python3.9/dist-packages (from requests>=2.20.0->-r requirements.txt (line 2)) (2022.12.7)\n",
            "Requirement already satisfied: charset-normalizer~=2.0.0 in /usr/local/lib/python3.9/dist-packages (from requests>=2.20.0->-r requirements.txt (line 2)) (2.0.12)\n",
            "Requirement already satisfied: numpy>=1.19.3 in /usr/local/lib/python3.9/dist-packages (from opencv-python>=4.2.0.32->-r requirements.txt (line 3)) (1.22.4)\n",
            "Requirement already satisfied: beautifulsoup4 in /usr/local/lib/python3.9/dist-packages (from wikipedia>=1.4.0->-r requirements.txt (line 8)) (4.11.2)\n",
            "Requirement already satisfied: soupsieve>1.2 in /usr/local/lib/python3.9/dist-packages (from beautifulsoup4->wikipedia>=1.4.0->-r requirements.txt (line 8)) (2.4.1)\n",
            "Installing collected packages: pillow\n",
            "  Attempting uninstall: pillow\n",
            "    Found existing installation: Pillow 8.4.0\n",
            "    Uninstalling Pillow-8.4.0:\n",
            "      Successfully uninstalled Pillow-8.4.0\n",
            "Successfully installed pillow-9.1.0\n"
          ]
        },
        {
          "output_type": "display_data",
          "data": {
            "application/vnd.colab-display-data+json": {
              "pip_warning": {
                "packages": [
                  "PIL"
                ]
              }
            }
          },
          "metadata": {}
        }
      ],
      "source": [
        "!pip install trdg\n",
        "!pip install -r requirements.txt"
      ]
    },
    {
      "cell_type": "code",
      "source": [
        "!git clone https://github.com/Belval/TextRecognitionDataGenerator"
      ],
      "metadata": {
        "id": "Saf2roKLpfuT",
        "colab": {
          "base_uri": "https://localhost:8080/"
        },
        "outputId": "61a780ad-8204-4ab8-ed79-5493ec3fb01c"
      },
      "execution_count": null,
      "outputs": [
        {
          "output_type": "stream",
          "name": "stdout",
          "text": [
            "Cloning into 'TextRecognitionDataGenerator'...\n",
            "remote: Enumerating objects: 1565, done.\u001b[K\n",
            "^C\n"
          ]
        }
      ]
    },
    {
      "cell_type": "code",
      "source": [
        "%cd /content/drive/MyDrive/TextRecognitionDataGenerator/TextRecognitionDataGenerator"
      ],
      "metadata": {
        "colab": {
          "base_uri": "https://localhost:8080/"
        },
        "id": "wtVPOXFfqH1N",
        "outputId": "75e536dc-967a-45d8-d56c-7d88070c9179"
      },
      "execution_count": null,
      "outputs": [
        {
          "output_type": "stream",
          "name": "stdout",
          "text": [
            "/content/drive/MyDrive/TextRecognitionDataGenerator/TextRecognitionDataGenerator\n"
          ]
        }
      ]
    },
    {
      "cell_type": "code",
      "source": [
        "!pip3 install -r requirements.txt"
      ],
      "metadata": {
        "id": "qWno41EXp-cd"
      },
      "execution_count": null,
      "outputs": []
    },
    {
      "cell_type": "code",
      "source": [
        "!pip3 install -r requirements-hw.txt"
      ],
      "metadata": {
        "id": "Pb5BOMOVqMIU"
      },
      "execution_count": null,
      "outputs": []
    },
    {
      "cell_type": "code",
      "source": [
        "from google.colab import drive\n",
        "drive.mount('/content/drive')"
      ],
      "metadata": {
        "id": "76StyCwNMGR2",
        "outputId": "c8158d71-2063-4966-b929-d40e5678d5bc",
        "colab": {
          "base_uri": "https://localhost:8080/"
        }
      },
      "execution_count": null,
      "outputs": [
        {
          "output_type": "stream",
          "name": "stdout",
          "text": [
            "Mounted at /content/drive\n"
          ]
        }
      ]
    },
    {
      "cell_type": "code",
      "source": [
        "!python ./trdg/run.py -c 100 -l vi -b 3 -k 5 -rk -na 2 -out_dir /content/drive/MyDrive/ABiNet/ABINet/data/synth_test"
      ],
      "metadata": {
        "colab": {
          "base_uri": "https://localhost:8080/"
        },
        "id": "3P7R16QSqXos",
        "outputId": "bae77003-accc-4c1c-d6f9-ab97baffe03e"
      },
      "execution_count": null,
      "outputs": [
        {
          "output_type": "stream",
          "name": "stdout",
          "text": [
            "Traceback (most recent call last):\n",
            "  File \"/content/drive/MyDrive/TextRecognitionDataGenerator/TextRecognitionDataGenerator/./trdg/run.py\", line 15, in <module>\n",
            "    from trdg.data_generator import FakeTextDataGenerator\n",
            "  File \"/usr/local/lib/python3.9/dist-packages/trdg/data_generator.py\", line 10, in <module>\n",
            "    from trdg import handwritten_text_generator\n",
            "  File \"/usr/local/lib/python3.9/dist-packages/trdg/handwritten_text_generator.py\", line 5, in <module>\n",
            "    import tensorflow as tf\n",
            "  File \"/usr/local/lib/python3.9/dist-packages/tensorflow/__init__.py\", line 37, in <module>\n",
            "    from tensorflow.python.tools import module_util as _module_util\n",
            "  File \"/usr/local/lib/python3.9/dist-packages/tensorflow/python/__init__.py\", line 36, in <module>\n",
            "    from tensorflow.python import pywrap_tensorflow as _pywrap_tensorflow\n",
            "  File \"/usr/local/lib/python3.9/dist-packages/tensorflow/python/pywrap_tensorflow.py\", line 26, in <module>\n",
            "    self_check.preload_check()\n",
            "  File \"/usr/local/lib/python3.9/dist-packages/tensorflow/python/platform/self_check.py\", line 63, in preload_check\n",
            "    from tensorflow.python.platform import _pywrap_cpu_feature_guard\n",
            "KeyboardInterrupt\n",
            "^C\n"
          ]
        }
      ]
    },
    {
      "cell_type": "code",
      "source": [
        "!python ./trdg/123.py"
      ],
      "metadata": {
        "colab": {
          "base_uri": "https://localhost:8080/"
        },
        "id": "HpRA2e2EbsKL",
        "outputId": "08fc372d-a4dd-4eeb-d2d6-9924fe7f8170"
      },
      "execution_count": null,
      "outputs": [
        {
          "output_type": "stream",
          "name": "stdout",
          "text": [
            "2023-04-27 14:41:19.221834: I tensorflow/core/platform/cpu_feature_guard.cc:182] This TensorFlow binary is optimized to use available CPU instructions in performance-critical operations.\n",
            "To enable the following instructions: AVX2 FMA, in other operations, rebuild TensorFlow with the appropriate compiler flags.\n",
            "2023-04-27 14:41:20.785806: W tensorflow/compiler/tf2tensorrt/utils/py_utils.cc:38] TF-TRT Warning: Could not find TensorRT\n",
            "100% 40/40 [00:01<00:00, 24.28it/s]\n"
          ]
        }
      ]
    }
  ]
}